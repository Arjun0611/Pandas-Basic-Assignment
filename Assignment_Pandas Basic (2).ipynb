{
 "cells": [
  {
   "cell_type": "code",
   "execution_count": 1,
   "id": "1e4e8d8d-6ed1-46c6-8ecd-270a541026fc",
   "metadata": {},
   "outputs": [],
   "source": [
    "import pandas as pd"
   ]
  },
  {
   "cell_type": "code",
   "execution_count": 3,
   "id": "c373bae5-04bb-4af2-8f72-c4636171a8ea",
   "metadata": {},
   "outputs": [
    {
     "name": "stdout",
     "output_type": "stream",
     "text": [
      "0     4\n",
      "1     8\n",
      "2    15\n",
      "3    16\n",
      "4    23\n",
      "5    42\n",
      "dtype: int64\n"
     ]
    }
   ],
   "source": [
    "#Q1.\n",
    "\n",
    "data = [4, 8, 15, 16, 23, 42]\n",
    "example_series = pd.Series(data)\n",
    "print(example_series)"
   ]
  },
  {
   "cell_type": "code",
   "execution_count": 5,
   "id": "dc64eefd-26b9-4d88-86cf-ae63c6556bac",
   "metadata": {},
   "outputs": [
    {
     "name": "stdout",
     "output_type": "stream",
     "text": [
      "0                                       1\n",
      "1                                       2\n",
      "2                                       3\n",
      "3                                     4.2\n",
      "4                                    True\n",
      "5                                    Ziba\n",
      "6                                  (7, 8)\n",
      "7                                      6j\n",
      "8             {banana, watermelon, apple}\n",
      "9    {'name': 'perpendicular', 'age': 32}\n",
      "dtype: object\n"
     ]
    }
   ],
   "source": [
    "#Q2.\n",
    "\n",
    "sample_list = [1,2,3,4.2,\"True\",\"Ziba\",(7,8),6j,{\"apple\",\"banana\",\"watermelon\"},{\"name\":\"perpendicular\",\"age\":32}]\n",
    "sample_series = pd.Series(sample_list)\n",
    "print(sample_series)"
   ]
  },
  {
   "cell_type": "code",
   "execution_count": 10,
   "id": "d40768a7-19d3-4d93-b3db-188c8e8f3438",
   "metadata": {},
   "outputs": [
    {
     "name": "stdout",
     "output_type": "stream",
     "text": [
      "     Name  Age  Gender\n",
      "0   Alice   25  Female\n",
      "1     Bob   30    Male\n",
      "2  Claire   27  Female\n"
     ]
    }
   ],
   "source": [
    "#Q3.\n",
    "\n",
    "provided_data = {\"Name\" : [\"Alice\",\"Bob\",\"Claire\"] , \"Age\" : [25,30,27] , \"Gender\" : [\"Female\", \"Male\",\"Female\"]}\n",
    "df = pd.DataFrame(provided_data)\n",
    "print(df)"
   ]
  },
  {
   "cell_type": "code",
   "execution_count": 11,
   "id": "22699007-9055-43af-88a7-a076c5573dd6",
   "metadata": {},
   "outputs": [],
   "source": [
    "#Q4.\n",
    "\n",
    "# DataFrame is a two-dimensional labeled data structure with columns that can be of different data types (similar to Excel spreadsheet).\n",
    "\n",
    "# A Panda Series, on the other hand, is a one-dimensional array that is capable of holding data of any type.\n",
    "\n",
    "# To simplify, DataFrame is a collection of Series objects, where each Series represents a column of the Data Frame."
   ]
  },
  {
   "cell_type": "code",
   "execution_count": 13,
   "id": "645e6ab0-b0ef-4983-8d4d-0fa8554f21b3",
   "metadata": {},
   "outputs": [
    {
     "name": "stdout",
     "output_type": "stream",
     "text": [
      "DataFrame:\n",
      "          City  Population  Area (sq. mi)\n",
      "0     New York     8524698          468.9\n",
      "1  Los Angeles     3977686          503.0\n",
      "2      Chicago     2716000          227.3\n",
      "\n",
      "Series:\n",
      "0    8524698\n",
      "1    3977686\n",
      "2    2716000\n",
      "Name: Population, dtype: int64\n"
     ]
    }
   ],
   "source": [
    "# Example\n",
    "\n",
    "sample_dataset = {\"City\":['New York','Los Angeles','Chicago'],'Population':[8524698,3977686,2716000],\"Area (sq. mi)\" : [468.9, 503, 227.3]}\n",
    "\n",
    "df = pd.DataFrame(sample_dataset)\n",
    "\n",
    "population_series = df['Population']\n",
    "\n",
    "print(\"DataFrame:\")\n",
    "print(df)\n",
    "print(\"\\nSeries:\")\n",
    "print(population_series)"
   ]
  },
  {
   "cell_type": "code",
   "execution_count": 16,
   "id": "a758ed96-87df-45c1-9407-6b68d3bd5728",
   "metadata": {},
   "outputs": [],
   "source": [
    "#Q5.\n",
    "\n",
    "# Common functions that are used to manipulate data in a Pandas DataFrame are explained using an example.\n",
    "\n",
    "data = {\n",
    "    \n",
    "    'Name' : ['Alice','Bob','Claire','David','Emma'],\n",
    "    'Age'  : [25,30,27,22,28],\n",
    "    'Gender' : ['Female','Male','Female','Male','Female'],\n",
    "    'Score' : [85,92,78,88,75]\n",
    "}"
   ]
  },
  {
   "cell_type": "code",
   "execution_count": 17,
   "id": "a62d7774-68ef-4e75-80f6-f1dc9e79b52e",
   "metadata": {},
   "outputs": [],
   "source": [
    "df1 = pd.DataFrame(data)"
   ]
  },
  {
   "cell_type": "code",
   "execution_count": 21,
   "id": "654c9db5-0357-4f2a-b7a9-801117284d05",
   "metadata": {},
   "outputs": [
    {
     "data": {
      "text/html": [
       "<div>\n",
       "<style scoped>\n",
       "    .dataframe tbody tr th:only-of-type {\n",
       "        vertical-align: middle;\n",
       "    }\n",
       "\n",
       "    .dataframe tbody tr th {\n",
       "        vertical-align: top;\n",
       "    }\n",
       "\n",
       "    .dataframe thead th {\n",
       "        text-align: right;\n",
       "    }\n",
       "</style>\n",
       "<table border=\"1\" class=\"dataframe\">\n",
       "  <thead>\n",
       "    <tr style=\"text-align: right;\">\n",
       "      <th></th>\n",
       "      <th>Name</th>\n",
       "      <th>Age</th>\n",
       "      <th>Gender</th>\n",
       "      <th>Score</th>\n",
       "    </tr>\n",
       "  </thead>\n",
       "  <tbody>\n",
       "    <tr>\n",
       "      <th>0</th>\n",
       "      <td>Alice</td>\n",
       "      <td>25</td>\n",
       "      <td>Female</td>\n",
       "      <td>85</td>\n",
       "    </tr>\n",
       "    <tr>\n",
       "      <th>1</th>\n",
       "      <td>Bob</td>\n",
       "      <td>30</td>\n",
       "      <td>Male</td>\n",
       "      <td>92</td>\n",
       "    </tr>\n",
       "    <tr>\n",
       "      <th>2</th>\n",
       "      <td>Claire</td>\n",
       "      <td>27</td>\n",
       "      <td>Female</td>\n",
       "      <td>78</td>\n",
       "    </tr>\n",
       "  </tbody>\n",
       "</table>\n",
       "</div>"
      ],
      "text/plain": [
       "     Name  Age  Gender  Score\n",
       "0   Alice   25  Female     85\n",
       "1     Bob   30    Male     92\n",
       "2  Claire   27  Female     78"
      ]
     },
     "execution_count": 21,
     "metadata": {},
     "output_type": "execute_result"
    }
   ],
   "source": [
    "#Display the first three rows of the DataFrame\n",
    "df1.head(3)"
   ]
  },
  {
   "cell_type": "code",
   "execution_count": 22,
   "id": "87f0b882-c5d5-4087-96f6-c19b18cac27e",
   "metadata": {},
   "outputs": [
    {
     "data": {
      "text/html": [
       "<div>\n",
       "<style scoped>\n",
       "    .dataframe tbody tr th:only-of-type {\n",
       "        vertical-align: middle;\n",
       "    }\n",
       "\n",
       "    .dataframe tbody tr th {\n",
       "        vertical-align: top;\n",
       "    }\n",
       "\n",
       "    .dataframe thead th {\n",
       "        text-align: right;\n",
       "    }\n",
       "</style>\n",
       "<table border=\"1\" class=\"dataframe\">\n",
       "  <thead>\n",
       "    <tr style=\"text-align: right;\">\n",
       "      <th></th>\n",
       "      <th>Name</th>\n",
       "      <th>Age</th>\n",
       "      <th>Gender</th>\n",
       "      <th>Score</th>\n",
       "    </tr>\n",
       "  </thead>\n",
       "  <tbody>\n",
       "    <tr>\n",
       "      <th>3</th>\n",
       "      <td>David</td>\n",
       "      <td>22</td>\n",
       "      <td>Male</td>\n",
       "      <td>88</td>\n",
       "    </tr>\n",
       "    <tr>\n",
       "      <th>4</th>\n",
       "      <td>Emma</td>\n",
       "      <td>28</td>\n",
       "      <td>Female</td>\n",
       "      <td>75</td>\n",
       "    </tr>\n",
       "  </tbody>\n",
       "</table>\n",
       "</div>"
      ],
      "text/plain": [
       "    Name  Age  Gender  Score\n",
       "3  David   22    Male     88\n",
       "4   Emma   28  Female     75"
      ]
     },
     "execution_count": 22,
     "metadata": {},
     "output_type": "execute_result"
    }
   ],
   "source": [
    "#Display the last two rows of the DataFrame\n",
    "df1.tail(2)"
   ]
  },
  {
   "cell_type": "code",
   "execution_count": 23,
   "id": "c84e000f-988a-4728-b637-7be3abef5e92",
   "metadata": {},
   "outputs": [],
   "source": [
    "#Extract the specific column from the DataFrame\n",
    "ages = df1['Age']"
   ]
  },
  {
   "cell_type": "code",
   "execution_count": 25,
   "id": "486f9cca-ac12-4091-afe9-3e9c1dacf8a5",
   "metadata": {},
   "outputs": [
    {
     "data": {
      "text/plain": [
       "0    25\n",
       "1    30\n",
       "2    27\n",
       "3    22\n",
       "4    28\n",
       "Name: Age, dtype: int64"
      ]
     },
     "execution_count": 25,
     "metadata": {},
     "output_type": "execute_result"
    }
   ],
   "source": [
    "ages"
   ]
  },
  {
   "cell_type": "code",
   "execution_count": 27,
   "id": "bfe7c150-d46b-47b4-bf33-162b25056ca2",
   "metadata": {},
   "outputs": [
    {
     "data": {
      "text/plain": [
       "Index(['Name', 'Age', 'Gender', 'Score'], dtype='object')"
      ]
     },
     "execution_count": 27,
     "metadata": {},
     "output_type": "execute_result"
    }
   ],
   "source": [
    "#Extract the list of columns that are present in the DataFrame\n",
    "df1.columns"
   ]
  },
  {
   "cell_type": "code",
   "execution_count": 28,
   "id": "37003379-a1a8-4620-b272-a5525a2db040",
   "metadata": {},
   "outputs": [
    {
     "data": {
      "text/plain": [
       "Name      object\n",
       "Age        int64\n",
       "Gender    object\n",
       "Score      int64\n",
       "dtype: object"
      ]
     },
     "execution_count": 28,
     "metadata": {},
     "output_type": "execute_result"
    }
   ],
   "source": [
    "#Display the data types of each column\n",
    "df1.dtypes"
   ]
  },
  {
   "cell_type": "code",
   "execution_count": 30,
   "id": "72986770-aa44-462f-8be2-d62f61c6b7db",
   "metadata": {},
   "outputs": [],
   "source": [
    "#Extract data assocaited with multiple columns\n",
    "name_scores = df1[['Age','Score']]"
   ]
  },
  {
   "cell_type": "code",
   "execution_count": 31,
   "id": "8730ff41-45d3-4b4c-a5cf-6785e9ab211d",
   "metadata": {},
   "outputs": [
    {
     "data": {
      "text/html": [
       "<div>\n",
       "<style scoped>\n",
       "    .dataframe tbody tr th:only-of-type {\n",
       "        vertical-align: middle;\n",
       "    }\n",
       "\n",
       "    .dataframe tbody tr th {\n",
       "        vertical-align: top;\n",
       "    }\n",
       "\n",
       "    .dataframe thead th {\n",
       "        text-align: right;\n",
       "    }\n",
       "</style>\n",
       "<table border=\"1\" class=\"dataframe\">\n",
       "  <thead>\n",
       "    <tr style=\"text-align: right;\">\n",
       "      <th></th>\n",
       "      <th>Age</th>\n",
       "      <th>Score</th>\n",
       "    </tr>\n",
       "  </thead>\n",
       "  <tbody>\n",
       "    <tr>\n",
       "      <th>0</th>\n",
       "      <td>25</td>\n",
       "      <td>85</td>\n",
       "    </tr>\n",
       "    <tr>\n",
       "      <th>1</th>\n",
       "      <td>30</td>\n",
       "      <td>92</td>\n",
       "    </tr>\n",
       "    <tr>\n",
       "      <th>2</th>\n",
       "      <td>27</td>\n",
       "      <td>78</td>\n",
       "    </tr>\n",
       "    <tr>\n",
       "      <th>3</th>\n",
       "      <td>22</td>\n",
       "      <td>88</td>\n",
       "    </tr>\n",
       "    <tr>\n",
       "      <th>4</th>\n",
       "      <td>28</td>\n",
       "      <td>75</td>\n",
       "    </tr>\n",
       "  </tbody>\n",
       "</table>\n",
       "</div>"
      ],
      "text/plain": [
       "   Age  Score\n",
       "0   25     85\n",
       "1   30     92\n",
       "2   27     78\n",
       "3   22     88\n",
       "4   28     75"
      ]
     },
     "execution_count": 31,
     "metadata": {},
     "output_type": "execute_result"
    }
   ],
   "source": [
    "name_scores"
   ]
  },
  {
   "cell_type": "code",
   "execution_count": 32,
   "id": "d734dc50-dc16-4f9f-8cfa-566a41e0045f",
   "metadata": {},
   "outputs": [],
   "source": [
    "#Q6.\n",
    "\n",
    "# All Pandas data structures are value mutable (i.e. their values can be modified after creation) and except Series all are size mutable as well. Series is size immutable."
   ]
  },
  {
   "cell_type": "code",
   "execution_count": 34,
   "id": "5cd0031c-f5d3-46e1-ae93-a3304e2eb1db",
   "metadata": {},
   "outputs": [
    {
     "name": "stdout",
     "output_type": "stream",
     "text": [
      "     Name  Age  Score\n",
      "0   Alice   25     85\n",
      "1     Bob   30     92\n",
      "2  Claire   27     78\n"
     ]
    }
   ],
   "source": [
    "#Q7.\n",
    "\n",
    "names = pd.Series(['Alice','Bob','Claire'])\n",
    "ages = pd.Series([25, 30, 27])\n",
    "scores = pd.Series([85, 92, 78])\n",
    "\n",
    "data = {'Name':names , 'Age':ages, 'Score':scores}\n",
    "df2 = pd.DataFrame(data)\n",
    "\n",
    "print(df2)"
   ]
  }
 ],
 "metadata": {
  "kernelspec": {
   "display_name": "Python 3 (ipykernel)",
   "language": "python",
   "name": "python3"
  },
  "language_info": {
   "codemirror_mode": {
    "name": "ipython",
    "version": 3
   },
   "file_extension": ".py",
   "mimetype": "text/x-python",
   "name": "python",
   "nbconvert_exporter": "python",
   "pygments_lexer": "ipython3",
   "version": "3.10.8"
  }
 },
 "nbformat": 4,
 "nbformat_minor": 5
}
